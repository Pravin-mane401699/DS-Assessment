{
 "cells": [
  {
   "cell_type": "code",
   "execution_count": 14,
   "metadata": {},
   "outputs": [
    {
     "name": "stdout",
     "output_type": "stream",
     "text": [
      "\"abc\": ['def', 'ghi', 'jkl', 'mno', 'pqr', 'stu', 'vwx', 'yz']\n",
      "\"def\": ['ghi', 'jkl', 'mno', 'pqr', 'stu', 'vwx', 'yz']\n",
      "\"ghi\": ['jkl', 'mno', 'pqr', 'stu', 'vwx', 'yz']\n",
      "\"jkl\": ['mno', 'pqr', 'stu', 'vwx', 'yz']\n",
      "\"mno\": ['pqr', 'stu', 'vwx', 'yz']\n",
      "\"pqr\": ['stu', 'vwx', 'yz']\n",
      "\"stu\": ['vwx', 'yz']\n",
      "\"vwx\": ['yz']\n",
      "\"yz\": ['you are finally here !!!']\n"
     ]
    }
   ],
   "source": [
    "def gen_output(input_dict, prefix=[]):\n",
    "    output = {}\n",
    "\n",
    "    for key, value in input_dict.items():\n",
    "        current_prefix = prefix + [key]\n",
    "        if isinstance(value, dict):\n",
    "            sub_output = gen_output(value, current_prefix)\n",
    "            output[key] = list(sub_output.keys())\n",
    "            output.update(sub_output)\n",
    "        else:\n",
    "            output[key] = [value]\n",
    "\n",
    "    return output\n",
    "\n",
    "input_dict = {\"abc\":{\"def\":{\"ghi\":{\"jkl\":{\"mno\":{\"pqr\":{\"stu\":{\"vwx\":{\"yz\":\"you are finally here !!!\"}}}}}}}}}\n",
    "output = gen_output(input_dict)\n",
    "\n",
    "for key, value in output.items():\n",
    "    print(f'\"{key}\": {value}')"
   ]
  },
  {
   "cell_type": "markdown",
   "metadata": {},
   "source": [
    "Q-2] Given an array of length ‘N’, where each element denotes the position of a stall. Now you have ‘N’ stalls and an integer ‘K’ which denotes the number of horses that are mad. To prevent the horses from hurting each other, you need to assign the horses to the stalls, such that the minimum distance between any two of them is as large as possible. Return the largest minimum distance.\n",
    "\n",
    "array: 1,2,4,8,9  &  k=3"
   ]
  },
  {
   "cell_type": "code",
   "execution_count": 10,
   "metadata": {},
   "outputs": [
    {
     "name": "stdout",
     "output_type": "stream",
     "text": [
      "3\n"
     ]
    }
   ],
   "source": [
    "def is_valid(arr, k, distance):\n",
    "    horses = 1\n",
    "    last_position = arr[0]\n",
    "    \n",
    "    for i in range(1, len(arr)):\n",
    "        if arr[i] - last_position >= distance:\n",
    "            horses += 1\n",
    "            last_position = arr[i]\n",
    "    \n",
    "    return horses >= k\n",
    "\n",
    "def largest_minimum_distance(arr, k):\n",
    "    arr.sort()\n",
    "    low = 1\n",
    "    high = arr[-1] - arr[0]\n",
    "    result = 0\n",
    "    \n",
    "    while low <= high:\n",
    "        mid = (low + high) // 2\n",
    "        if is_valid(arr, k, mid):\n",
    "            result = mid\n",
    "            low = mid + 1\n",
    "        else:\n",
    "            high = mid - 1\n",
    "    \n",
    "    return result\n",
    "\n",
    "array = [1, 2, 4, 8, 9]\n",
    "k = 3\n",
    "output = largest_minimum_distance(array, k)\n",
    "print(output)"
   ]
  },
  {
   "cell_type": "markdown",
   "metadata": {},
   "source": [
    "Q-3]  Mr. Karthiken works in a door mat manufacturing company. One day, he designed a new door mat with the following specifications:\n",
    "\n",
    "             a) Mat size must be N X M. (N is an odd natural number, and M is 3 times N.)\n",
    "              b) The design should have ‘WELCOME’ written in the center.\n",
    "              c) The design pattern should only use |, . and – characters."
   ]
  },
  {
   "cell_type": "code",
   "execution_count": 11,
   "metadata": {},
   "outputs": [
    {
     "name": "stdout",
     "output_type": "stream",
     "text": [
      "---------.|.---------\n",
      "------.|..|..|.------\n",
      "---.|..|..|..|..|.---\n",
      "-------WELCOME-------\n",
      "---.|..|..|..|..|.---\n",
      "------.|..|..|.------\n",
      "---------.|.---------\n"
     ]
    }
   ],
   "source": [
    "def create_door_mat(N, M):\n",
    "    if N % 2 == 0 or M != 3 * N:\n",
    "        print(\"Invalid input! N must be an odd natural number and M must be 3 times N.\")\n",
    "        return\n",
    "    \n",
    "    welcome = \"WELCOME\"\n",
    "    pattern = \".|.\"\n",
    "    \n",
    "    # Upper part\n",
    "    for i in range(N // 2):\n",
    "        print((pattern * (2 * i + 1)).center(M, '-'))\n",
    "    \n",
    "    # Middle part\n",
    "    print(welcome.center(M, '-'))\n",
    "    \n",
    "    # Lower part\n",
    "    for i in range(N // 2 - 1, -1, -1):\n",
    "        print((pattern * (2 * i + 1)).center(M, '-'))\n",
    "\n",
    "# Example usage:\n",
    "N = 7\n",
    "M = 21\n",
    "create_door_mat(N, M)"
   ]
  },
  {
   "cell_type": "markdown",
   "metadata": {},
   "source": [
    "Q-4]  Given an array nums of n integers, return an array of all the unique quadruplets [nums[a], nums[b], nums[c], nums[d]] such that:\n",
    "\n",
    "   a) 0 <= a, b, c, d < n\n",
    "   b) a, b, c, and d are distinct.\n",
    "   c) nums[a] + nums[b] + nums[c] + nums[d] == target"
   ]
  },
  {
   "cell_type": "code",
   "execution_count": 12,
   "metadata": {},
   "outputs": [
    {
     "name": "stdout",
     "output_type": "stream",
     "text": [
      "[[-2, -1, 1, 2], [-2, 0, 0, 2], [-1, 0, 0, 1]]\n"
     ]
    }
   ],
   "source": [
    "def four_sum(nums, target):\n",
    "    nums.sort()\n",
    "    n = len(nums)\n",
    "    result = []\n",
    "    \n",
    "    for i in range(n - 3):\n",
    "        if i > 0 and nums[i] == nums[i - 1]:  # Skip duplicates\n",
    "            continue\n",
    "        for j in range(i + 1, n - 2):\n",
    "            if j > i + 1 and nums[j] == nums[j - 1]:  # Skip duplicates\n",
    "                continue\n",
    "            left = j + 1\n",
    "            right = n - 1\n",
    "            while left < right:\n",
    "                current_sum = nums[i] + nums[j] + nums[left] + nums[right]\n",
    "                if current_sum == target:\n",
    "                    result.append([nums[i], nums[j], nums[left], nums[right]])\n",
    "                    left += 1\n",
    "                    right -= 1\n",
    "                    while left < right and nums[left] == nums[left - 1]:  # Skip duplicates\n",
    "                        left += 1\n",
    "                    while left < right and nums[right] == nums[right + 1]:  # Skip duplicates\n",
    "                        right -= 1\n",
    "                elif current_sum < target:\n",
    "                    left += 1\n",
    "                else:\n",
    "                    right -= 1\n",
    "    \n",
    "    return result\n",
    "\n",
    "# Example usage:\n",
    "nums = [1, 0, -1, 0, -2, 2]\n",
    "target = 0\n",
    "result = four_sum(nums, target)\n",
    "print(result)"
   ]
  },
  {
   "cell_type": "code",
   "execution_count": null,
   "metadata": {},
   "outputs": [],
   "source": []
  }
 ],
 "metadata": {
  "kernelspec": {
   "display_name": "base",
   "language": "python",
   "name": "python3"
  },
  "language_info": {
   "codemirror_mode": {
    "name": "ipython",
    "version": 3
   },
   "file_extension": ".py",
   "mimetype": "text/x-python",
   "name": "python",
   "nbconvert_exporter": "python",
   "pygments_lexer": "ipython3",
   "version": "3.11.3"
  }
 },
 "nbformat": 4,
 "nbformat_minor": 2
}
